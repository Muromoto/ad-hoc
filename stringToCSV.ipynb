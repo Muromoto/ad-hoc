{
  "cells": [
    {
      "cell_type": "markdown",
      "metadata": {
        "id": "view-in-github",
        "colab_type": "text"
      },
      "source": [
        "<a href=\"https://colab.research.google.com/github/Muromoto/ad-hoc/blob/main/stringToCSV.ipynb\" target=\"_parent\"><img src=\"https://colab.research.google.com/assets/colab-badge.svg\" alt=\"Open In Colab\"/></a>"
      ]
    },
    {
      "cell_type": "code",
      "execution_count": 5,
      "metadata": {
        "id": "o505Yxqgn4n2"
      },
      "outputs": [],
      "source": [
        "import pandas as pd\n",
        "s = '60020300, 60020400, 60029900, 61989900, 61989901, 62980200, 63980800, 63989999, 64000004, 64000500, 64010000, 64010101, 64020500, 64020600, 64050000, 64060000, 64070300, 64989900, 64989901, 66061000, 68000000, 81009902, 81029921, 58600000, 58600001, 58619001, 58620400, 58620402, 58640000, 56010000, 58600001, 58600002, 58640000'\n",
        "\n",
        "#s = s.replace('N',''\n",
        "s = pd.Series(s.split(', '))\n",
        "s.to_csv('accounts.csv', sep=',', index=False, header=False)"
      ]
    },
    {
      "cell_type": "code",
      "source": [
        "# If the GL Accounts are one big blob with no delimiter\n",
        "\n",
        "line = '2350000023503400129030001501300093003100930230001360000013700000230100012310000024100000660200006603000066040000'\n",
        "n = 8\n",
        "s = pd.Series([line[i:i+n] for i in range (0, len(line), n)]),\n",
        "s.to_csv('accounts.csv', sep=',', index=False, header=False)\n",
        "str([line[i:i+n] for i in range (0, len(line), n)])"
      ],
      "metadata": {
        "id": "IVSWxcr0Rgsj"
      },
      "execution_count": null,
      "outputs": []
    }
  ],
  "metadata": {
    "colab": {
      "provenance": [],
      "authorship_tag": "ABX9TyPfRFZUJDrxMbx9XjY4EB+c",
      "include_colab_link": true
    },
    "kernelspec": {
      "display_name": "Python 3",
      "name": "python3"
    },
    "language_info": {
      "name": "python"
    }
  },
  "nbformat": 4,
  "nbformat_minor": 0
}