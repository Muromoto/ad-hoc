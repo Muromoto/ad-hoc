{
  "cells": [
    {
      "cell_type": "markdown",
      "metadata": {
        "id": "view-in-github",
        "colab_type": "text"
      },
      "source": [
        "<a href=\"https://colab.research.google.com/github/Muromoto/ad-hoc/blob/main/stringToCSV.ipynb\" target=\"_parent\"><img src=\"https://colab.research.google.com/assets/colab-badge.svg\" alt=\"Open In Colab\"/></a>"
      ]
    },
    {
      "cell_type": "code",
      "execution_count": null,
      "metadata": {
        "id": "o505Yxqgn4n2"
      },
      "outputs": [],
      "source": [
        "import pandas as pd\n",
        "s = '20801003,20802000,21001001,22703000,22601000,11503026,11503101,11503102,11503500,11503526,22001000,12903000,12903099,12911000,14000100,14000788,14008000,14008099,15001000,15002000,15003000,15011000,15012000,15013000,23500000,23500001,23500002,23500003,23500099,23500788,23501000,23501001,23501002,23501099,23501200,23502000,23502200,23503000,23503050,23503099,23503200,23503299,23503400,23504000,23505000,23505099,23506000,23506001,23506002,23507000,23590009,23591089,24502003,24505000,24505001,24510000,24521000,24522000,24523000,24523099,24531000,23070001,20801000,23100000,11001079,11001081,11001064,11001066,11001068,11001069,21006000,21007000,25001000,25002000,25003000,59503001,59500599'\n",
        "\n",
        "#s = s.replace('N',''\n",
        "s = pd.Series(s.split(','))\n",
        "s.to_csv('accounts.csv', sep=',', index=False, header=False)"
      ]
    },
    {
      "cell_type": "code",
      "source": [
        "# If the GL Accounts are one big blob with no delimiter\n",
        "\n",
        "line = '2350000023503400129030001501300093003100930230001360000013700000230100012310000024100000660200006603000066040000'\n",
        "n = 8\n",
        "s = pd.Series([line[i:i+n] for i in range (0, len(line), n)]),\n",
        "s.to_csv('accounts.csv', sep=',', index=False, header=False)\n",
        "str([line[i:i+n] for i in range (0, len(line), n)])"
      ],
      "metadata": {
        "id": "IVSWxcr0Rgsj"
      },
      "execution_count": null,
      "outputs": []
    }
  ],
  "metadata": {
    "colab": {
      "provenance": [],
      "authorship_tag": "ABX9TyMDEfF9xhj+OaX6iTlEfMOn",
      "include_colab_link": true
    },
    "kernelspec": {
      "display_name": "Python 3",
      "name": "python3"
    },
    "language_info": {
      "name": "python"
    }
  },
  "nbformat": 4,
  "nbformat_minor": 0
}