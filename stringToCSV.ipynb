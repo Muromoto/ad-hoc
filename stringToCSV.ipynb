{
  "cells": [
    {
      "cell_type": "markdown",
      "metadata": {
        "id": "view-in-github",
        "colab_type": "text"
      },
      "source": [
        "<a href=\"https://colab.research.google.com/github/Muromoto/ad-hoc/blob/main/stringToCSV.ipynb\" target=\"_parent\"><img src=\"https://colab.research.google.com/assets/colab-badge.svg\" alt=\"Open In Colab\"/></a>"
      ]
    },
    {
      "cell_type": "code",
      "execution_count": null,
      "metadata": {
        "id": "o505Yxqgn4n2"
      },
      "outputs": [],
      "source": [
        "import pandas as pd\n",
        "s = '33003000, 33005000, 31500000, 30500000, 94600000, 33001000, 33003099, 31500099, 32500000, 30500099, 30501000, 30520000, 30502000, 14000002, 14014000, 14015001, 33000099, 33001099'\n",
        "\n",
        "#s = s.replace('N',''\n",
        "s = pd.Series(s.split(', '))\n",
        "s.to_csv('accounts.csv', sep=',', index=False, header=False)"
      ]
    },
    {
      "cell_type": "code",
      "source": [
        "# If the GL Accounts are one big blob with no delimiter\n",
        "\n",
        "line = '2350000023503400129030001501300093003100930230001360000013700000230100012310000024100000660200006603000066040000'\n",
        "n = 8\n",
        "s = pd.Series([line[i:i+n] for i in range (0, len(line), n)]),\n",
        "s.to_csv('accounts.csv', sep=',', index=False, header=False)\n",
        "str([line[i:i+n] for i in range (0, len(line), n)])"
      ],
      "metadata": {
        "id": "IVSWxcr0Rgsj"
      },
      "execution_count": null,
      "outputs": []
    }
  ],
  "metadata": {
    "colab": {
      "provenance": [],
      "authorship_tag": "ABX9TyOoPy+56SKLkhz04Oi8QgFa",
      "include_colab_link": true
    },
    "kernelspec": {
      "display_name": "Python 3",
      "name": "python3"
    },
    "language_info": {
      "name": "python"
    }
  },
  "nbformat": 4,
  "nbformat_minor": 0
}